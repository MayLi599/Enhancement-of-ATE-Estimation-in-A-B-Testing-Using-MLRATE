{
 "cells": [
  {
   "cell_type": "markdown",
   "id": "42612ea4",
   "metadata": {},
   "source": [
    "## Setting up environment"
   ]
  },
  {
   "cell_type": "code",
   "execution_count": 17,
   "id": "606e9a89",
   "metadata": {},
   "outputs": [],
   "source": [
    "import warnings\n",
    "warnings.filterwarnings(\"ignore\")\n",
    "import pandas as pd\n",
    "import numpy as np\n",
    "import matplotlib.pyplot as plt\n",
    "import statsmodels.formula.api as smf\n",
    "import seaborn as sns\n",
    "from scipy.stats import norm\n",
    "from sklearn.model_selection import StratifiedKFold\n",
    "from xgboost import XGBRegressor"
   ]
  },
  {
   "cell_type": "markdown",
   "id": "f24ea3bf",
   "metadata": {},
   "source": [
    "## Data Simulation"
   ]
  },
  {
   "cell_type": "code",
   "execution_count": 2,
   "id": "ca1c621b",
   "metadata": {},
   "outputs": [],
   "source": [
    "np.random.seed(42)\n",
    "n=1000   #number of observations, reduced to 1000 for faster runtime\n",
    "p=10   #number of X covariates, reduced to 10 for faster runtime\n",
    "X_matrix = np.random.multivariate_normal(np.zeros(p), np.eye(p), size=n).astype('float') #X covariates matrix\n",
    "T = np.random.binomial(1, 0.5, n).astype('int') #treatment groups randomly assigned\n",
    "X_cols = ['X' + str(x) for x in range(1,(p+1))] #X1, X2, ..., X100\n",
    "df = pd.DataFrame(X_matrix, columns = X_cols) #store into a dataframe\n",
    "b = 10*np.sin(np.pi*df['X1']*df['X2'] ) + 20*(df['X3']-0.5)**2 + 10*df['X4'] + 5*df['X5'] #Friedman function (non-linear)\n",
    "tau = df['X1'] + np.log(1 + np.exp(df['X2'])) #treatment effect (non-constant)\n",
    "u = np.random.normal(0, 25, n) #random error component ui\n",
    "Y = (b + T*tau + u).astype('float') #outcome variable Yi\n",
    "df['T'] = T\n",
    "df['Y'] = Y"
   ]
  },
  {
   "cell_type": "markdown",
   "id": "78b3df50",
   "metadata": {},
   "source": [
    "## Build MLRATE Function"
   ]
  },
  {
   "cell_type": "code",
   "execution_count": 3,
   "id": "0541f74e",
   "metadata": {},
   "outputs": [],
   "source": [
    "def mlrate(data, X_columns, y, T, model, tau, n_splits=2, alpha=0.05, random_seed=42):\n",
    "    #k-fold split suggested in paper, default to k=2\n",
    "    kfold = StratifiedKFold(n_splits=n_splits, shuffle=True, random_state=random_seed)\n",
    "    idx = []\n",
    "    Y_hat = []\n",
    "    for train_index, test_index in kfold.split(data, data[T]):\n",
    "\n",
    "        df_train = data.iloc[train_index].reset_index()\n",
    "        df_test = data.iloc[test_index].reset_index()\n",
    "\n",
    "        X_train = df_train[X_columns].copy()\n",
    "        y_train = df_train[y].copy()\n",
    "        X_test =  df_test[X_columns].copy()\n",
    "        model.fit(X_train, y_train)\n",
    "        #predict Yi with our model\n",
    "        y_pred = model.predict(X_test)\n",
    "\n",
    "        idx.extend(test_index)\n",
    "        Y_hat.extend(list(y_pred))\n",
    "\n",
    "    df_res = pd.DataFrame({'index':idx,'Yhat':Y_hat}).sort_values(by='index').reset_index(drop=True)\n",
    "    df_res[['Y','T']] = data[[y, T]]\n",
    "    df_res['Yhat_dev'] = df_res['Yhat'] - np.mean(df_res['Yhat']) #difference between Y hat and mean of Y hat\n",
    "    df_res['Yhat_T'] = df_res['T'] * df_res['Yhat_dev']\n",
    "    df_res.drop('index', axis=1, inplace=True)\n",
    "    #fit ols model and compute treatment effect as OLS estimator of coefficient for T\n",
    "    ols_reg = smf.ols('Y ~ T + Yhat + Yhat_T', data = df_res).fit()\n",
    "    ate = ols_reg.params['T']\n",
    "    std = ols_reg.bse['T']\n",
    "    z = norm.ppf(1-alpha/2)\n",
    "    #upper and lower bound for 100(1-a)% CI\n",
    "    upper = ate+z*std\n",
    "    lower = ate-z*std\n",
    "    coverage = sum((tau>=lower) & (tau<=upper)) / len(tau)\n",
    "    return ate, std, lower, upper, coverage"
   ]
  },
  {
   "cell_type": "code",
   "execution_count": 4,
   "id": "91c12c83",
   "metadata": {},
   "outputs": [
    {
     "data": {
      "text/plain": [
       "3.022302266871943"
      ]
     },
     "execution_count": 4,
     "metadata": {},
     "output_type": "execute_result"
    }
   ],
   "source": [
    "#trying our algorithm with XGBoost\n",
    "XGB_reg = XGBRegressor()\n",
    "mlrate(df, X_columns=X_cols, y='Y', T='T', model=XGB_reg, tau=tau)[0] #ate"
   ]
  },
  {
   "cell_type": "code",
   "execution_count": 5,
   "id": "382edb3f",
   "metadata": {},
   "outputs": [
    {
     "data": {
      "text/plain": [
       "0.916"
      ]
     },
     "execution_count": 5,
     "metadata": {},
     "output_type": "execute_result"
    }
   ],
   "source": [
    "mlrate(df, X_columns=X_cols, y='Y', T='T', model=XGB_reg, tau=tau)[4] #coverage"
   ]
  },
  {
   "cell_type": "code",
   "execution_count": 6,
   "id": "e425f7f6",
   "metadata": {},
   "outputs": [
    {
     "data": {
      "text/plain": [
       "(4.863509074749235,\n",
       " 2.6817933417283624,\n",
       " -0.3927092890176729,\n",
       " 10.119727438516144,\n",
       " 0.868)"
      ]
     },
     "execution_count": 6,
     "metadata": {},
     "output_type": "execute_result"
    }
   ],
   "source": [
    "def diff_in_mean(data, X_columns, y, T, tau, alpha=0.05):\n",
    "  df_t = data[data[T] == 1].copy()\n",
    "  df_c = data[data[T] == 0].copy()\n",
    "  #difference in mean\n",
    "  u_diff = np.mean(df_t[y]) - np.mean(df_c[y])\n",
    "\n",
    "  #calculate the standard error\n",
    "  s1_sq = np.var(df_t[y], ddof=1)\n",
    "  s2_sq = np.var(df_c[y], ddof=1)\n",
    "  n1 = len(df_t)\n",
    "  n2 = len(df_c)\n",
    "  std = np.sqrt(((n1-1)*s1_sq+(n2-1)*s2_sq)/(n1+n2-2)) * np.sqrt(1/n1 + 1/n2)\n",
    "  z = norm.ppf(1-alpha/2)\n",
    "  #upper and lower bound for 100(1-a)% CI\n",
    "  upper = u_diff+z*std\n",
    "  lower = u_diff-z*std\n",
    "  coverage = sum((tau>=lower) & (tau<=upper)) / len(tau)\n",
    "  return u_diff, std, lower, upper, coverage\n",
    "\n",
    "#testing\n",
    "diff_in_mean(df, X_cols, 'Y', 'T', tau)"
   ]
  },
  {
   "cell_type": "markdown",
   "id": "7e0c3d21",
   "metadata": {},
   "source": [
    "## Bootstrap and plotting\n",
    "Since our treatment effect is non-constant, here we do not plot a distribution plot of ATE against the true ATE. Rather, we plot the cumulative average of coverages and interval widths from the confidence intervals in our bootstrapping process."
   ]
  },
  {
   "cell_type": "code",
   "execution_count": 9,
   "id": "eca8fa73",
   "metadata": {},
   "outputs": [
    {
     "data": {
      "image/png": "[encoded data removed]",
      "text/plain": [
       "<Figure size 432x288 with 2 Axes>"
      ]
     },
     "metadata": {
      "needs_background": "light"
     },
     "output_type": "display_data"
    },
    {
     "data": {
      "text/plain": [
       "<Figure size 720x432 with 0 Axes>"
      ]
     },
     "metadata": {},
     "output_type": "display_data"
    },
    {
     "name": "stdout",
     "output_type": "stream",
     "text": [
      "Average Coverage Rate is 0.8421, and Average CI Width is 9.689405542797328\n"
     ]
    }
   ],
   "source": [
    "#bootstrap and calculate running average of coverage rate\n",
    "\n",
    "#initiate ML model for predicting Yi\n",
    "XGB_reg = XGBRegressor()\n",
    "\n",
    "#choose number of bootstraps and bootstrap size\n",
    "B = 10\n",
    "b_size = 500\n",
    "std_values = np.zeros(B)\n",
    "coverage_values = np.zeros(B)\n",
    "width_values = np.zeros(B)\n",
    "for b in range(B):\n",
    "    boot_sample = df.sample(n = b_size, replace = True, random_state = b+1).reset_index(drop=True)\n",
    "    result = mlrate(boot_sample, X_columns=X_cols, y='Y', T='T', model=XGB_reg, tau=tau, random_seed=b+1)\n",
    "    std = result[1]\n",
    "    coverage = result[4]\n",
    "    width = result[3] - result[2]\n",
    "    std_values[b] = std\n",
    "    coverage_values[b] = coverage\n",
    "    width_values[b] = width\n",
    "\n",
    "#plotting the cumulative average of std, coverage rate, and interval width\n",
    "i = 1\n",
    "cov_ma = []\n",
    "wid_ma = []\n",
    "cov_cs = np.cumsum(coverage_values)\n",
    "wid_cs = np.cumsum(width_values);\n",
    "while i <= B:\n",
    "    cov_wa = cov_cs[i-1] / i\n",
    "    wid_wa = wid_cs[i-1] / i\n",
    "    cov_ma.append(cov_wa)\n",
    "    wid_ma.append(wid_wa)\n",
    "    i += 1\n",
    "\n",
    "figure, axis = plt.subplots(2,1)\n",
    "\n",
    "#plot coverage\n",
    "axis[0].plot(list(range(B)), cov_ma)\n",
    "axis[0].set_title(\"Cumulative average of Coverage Rate\")\n",
    "#plot interval width\n",
    "axis[1].plot(list(range(B)), wid_ma)\n",
    "axis[1].set_title(\"Cumulative average of CI Width\")\n",
    "\n",
    "plt.figure(figsize=(10,6))\n",
    "plt.subplots_adjust(wspace=1, hspace=1)\n",
    "plt.show()\n",
    "\n",
    "print(f'Average Coverage Rate is {cov_ma[-1]}, and Average CI Width is {wid_ma[-1]}')"
   ]
  },
  {
   "cell_type": "code",
   "execution_count": 10,
   "id": "031f66c4",
   "metadata": {},
   "outputs": [],
   "source": [
    "def bootstrap(method, B, b_size, data, X_columns, y, T, model, tau):\n",
    "    std_values = np.zeros(B)\n",
    "    coverage_values = np.zeros(B)\n",
    "    width_values = np.zeros(B)\n",
    "    for b in range(B):\n",
    "        boot_sample = data.sample(n = b_size, replace = True, random_state = b+1).reset_index(drop=True)\n",
    "        if method == \"mlrate\":\n",
    "            result = mlrate(boot_sample, X_columns=X_columns, y=y, T=T, model=model, tau=tau, random_seed=b+1)\n",
    "        if method == \"dim\":\n",
    "            result = diff_in_mean(boot_sample, X_columns=X_columns, y=y, T=T, tau=tau)\n",
    "        std = result[1]\n",
    "        coverage = result[4]\n",
    "        width = result[3] - result[2]\n",
    "        std_values[b] = std\n",
    "        coverage_values[b] = coverage\n",
    "        width_values[b] = width\n",
    "    return std_values, coverage_values, width_values"
   ]
  },
  {
   "cell_type": "code",
   "execution_count": 11,
   "id": "f3d8bb1a",
   "metadata": {},
   "outputs": [],
   "source": [
    "result_ml = bootstrap(method=\"mlrate\", B=200, b_size=500, data=df, X_columns=X_cols, y='Y', T='T', model=XGB_reg, tau=tau)\n",
    "std_ml = result_ml[0]\n",
    "coverage_ml = result_ml[1]\n",
    "width_ml = result_ml[2]"
   ]
  },
  {
   "cell_type": "code",
   "execution_count": 12,
   "id": "695382fc",
   "metadata": {},
   "outputs": [],
   "source": [
    "result_di = bootstrap(method=\"dim\", B=200, b_size=500, data=df, X_columns=X_cols, y='Y', T='T', model=XGB_reg, tau=tau)\n",
    "std_di = result_di[0]\n",
    "coverage_di = result_di[1]\n",
    "width_di = result_di[2]"
   ]
  },
  {
   "cell_type": "code",
   "execution_count": 13,
   "id": "476e17ff",
   "metadata": {},
   "outputs": [
    {
     "data": {
      "image/png": "[encoded data removed]",
      "text/plain": [
       "<Figure size 432x288 with 1 Axes>"
      ]
     },
     "metadata": {
      "needs_background": "light"
     },
     "output_type": "display_data"
    },
    {
     "name": "stdout",
     "output_type": "stream",
     "text": [
      "Average Coverage Rate of MLRATE is 0.8532150000000001, Difference in Means is 0.828995\n"
     ]
    }
   ],
   "source": [
    "final_results = pd.DataFrame(data={'std_ml': std_ml, 'coverage_ml': coverage_ml, 'width_ml': width_ml,\n",
    "                                   'std_dim': std_di, 'coverage_dim': coverage_di, 'width_dim': width_di})\n",
    "cov_ma_ml = np.array(final_results['coverage_ml'].expanding().mean())\n",
    "wid_ma_ml = np.array(final_results['width_ml'].expanding().mean())\n",
    "cov_ma_dim = np.array(final_results['coverage_dim'].expanding().mean())\n",
    "wid_ma_dim = np.array(final_results['width_dim'].expanding().mean())\n",
    "\n",
    "#plot coverage\n",
    "plt.plot(list(range(200)), cov_ma_ml, label='MLRATE')\n",
    "plt.plot(list(range(200)), cov_ma_dim, label='Difference-in-means')\n",
    "plt.title(\"Cumulative average of Coverage Rate\")\n",
    "\n",
    "plt.legend()\n",
    "plt.show()\n",
    "\n",
    "print(f'Average Coverage Rate of MLRATE is {cov_ma_ml[-1]}, Difference in Means is {cov_ma_dim[-1]}')"
   ]
  },
  {
   "cell_type": "code",
   "execution_count": 14,
   "id": "2bdf95ec",
   "metadata": {},
   "outputs": [
    {
     "data": {
      "image/png": "[encoded data removed]",
      "text/plain": [
       "<Figure size 432x288 with 1 Axes>"
      ]
     },
     "metadata": {
      "needs_background": "light"
     },
     "output_type": "display_data"
    },
    {
     "name": "stdout",
     "output_type": "stream",
     "text": [
      "Average CI Width of MLRATE is 9.616552613517465, Difference in Means is 14.83691251395897\n"
     ]
    }
   ],
   "source": [
    "#plot interval width\n",
    "plt.plot(list(range(200)), wid_ma_ml, label=\"MLRATE\")\n",
    "plt.plot(list(range(200)), wid_ma_dim, label=\"Difference-in-means\")\n",
    "plt.title(\"Cumulative average of Confidence Interval Width\")\n",
    "\n",
    "plt.legend()\n",
    "plt.show()\n",
    "\n",
    "print(f'Average CI Width of MLRATE is {wid_ma_ml[-1]}, Difference in Means is {wid_ma_dim[-1]}')"
   ]
  },
  {
   "cell_type": "code",
   "execution_count": 15,
   "id": "599ef641",
   "metadata": {},
   "outputs": [
    {
     "data": {
      "text/plain": [
       "-0.3518494764682375"
      ]
     },
     "execution_count": 15,
     "metadata": {},
     "output_type": "execute_result"
    }
   ],
   "source": [
    "(wid_ma_ml[-1]-wid_ma_dim[-1])/wid_ma_dim[-1]"
   ]
  },
  {
   "cell_type": "code",
   "execution_count": 18,
   "id": "4243d1e8",
   "metadata": {},
   "outputs": [
    {
     "name": "stdout",
     "output_type": "stream",
     "text": [
      "Average Standard Error of MLRATE is 2.453247276320281, Difference in Means is 3.784996211917832\n"
     ]
    },
    {
     "data": {
      "image/png": "[encoded data removed]",
      "text/plain": [
       "<Figure size 435.375x360 with 1 Axes>"
      ]
     },
     "metadata": {
      "needs_background": "light"
     },
     "output_type": "display_data"
    }
   ],
   "source": [
    "df_sns = final_results[['std_ml', 'std_dim']]\n",
    "df_table_sns = pd.melt(df_sns, var_name = 'method')\n",
    "sns.displot(df_table_sns, x='value', hue='method', kind='kde')\n",
    "\n",
    "print(f'Average Standard Error of MLRATE is {std_ml.mean()}, Difference in Means is {std_di.mean()}')"
   ]
  },
  {
   "cell_type": "code",
   "execution_count": null,
   "id": "96446f74",
   "metadata": {},
   "outputs": [],
   "source": []
  }
 ],
 "metadata": {
  "kernelspec": {
   "display_name": "Python 3 (ipykernel)",
   "language": "python",
   "name": "python3"
  },
  "language_info": {
   "codemirror_mode": {
    "name": "ipython",
    "version": 3
   },
   "file_extension": ".py",
   "mimetype": "text/x-python",
   "name": "python",
   "nbconvert_exporter": "python",
   "pygments_lexer": "ipython3",
   "version": "3.9.12"
  }
 },
 "nbformat": 4,
 "nbformat_minor": 5
}
